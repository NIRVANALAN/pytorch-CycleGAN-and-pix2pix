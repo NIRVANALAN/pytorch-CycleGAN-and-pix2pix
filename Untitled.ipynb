{
 "cells": [
  {
   "cell_type": "code",
   "execution_count": null,
   "metadata": {},
   "outputs": [],
   "source": [
    "root = '/mnt/lustre/yslan/Dataset/OPen4D/JUMPING-MINH'\n",
    "sync_file = Path(root) / 'Syncs' / 'cam_sync.txt'\n",
    "\n",
    "with open(sync_file, 'r') as cam_sync:\n",
    "    # ? name here\n",
    "    sync_pairs = cam_sync.readlines()[1:]\n",
    "    for view_pair in sync_pairs:\n",
    "        view_pair = view_pair.strip().split()[2:]\n",
    "        # pair_paths = [img_root / str(view_pair[i]) / 'Corrected' / '{:0>4}_.png'.format(\n",
    "        #     view_pair[i+1]) for i in range(0, len(view_pair), 2)]\n",
    "        pair_paths = [img_root / str(view_pair[i]) / '{:0>4}.png'.format(\n",
    "            view_pair[i+1]) for i in range(0, len(view_pair), 2)]\n",
    "        # for i in self.nei_views:\n",
    "        #     pair = (\n",
    "        #         pair_paths[self.center], pair_paths[self.order[(i) % len(self.order)]])\n",
    "        pair = (pair_paths[0], pair_paths[1])  # 1 4\n",
    "        if all(p.exists() for p in pair):\n",
    "            self.image_paths.append(tuple(map(str, pair)))"
   ]
  }
 ],
 "metadata": {},
 "nbformat": 4,
 "nbformat_minor": 4
}