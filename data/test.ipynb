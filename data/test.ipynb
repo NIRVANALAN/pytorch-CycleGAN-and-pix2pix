{
 "metadata": {
  "language_info": {
   "codemirror_mode": {
    "name": "ipython",
    "version": 3
   },
   "file_extension": ".py",
   "mimetype": "text/x-python",
   "name": "python",
   "nbconvert_exporter": "python",
   "pygments_lexer": "ipython3",
   "version": "3.7.9-final"
  },
  "orig_nbformat": 2,
  "kernelspec": {
   "name": "python37964bitopenmmlabconda26ff8eaa9b78437db39145ef992d395f",
   "display_name": "Python 3.7.9 64-bit ('open-mmlab': conda)"
  }
 },
 "nbformat": 4,
 "nbformat_minor": 2,
 "cells": [
  {
   "cell_type": "code",
   "execution_count": 1,
   "metadata": {},
   "outputs": [],
   "source": [
    "# !pwd\n",
    "from pathlib import Path\n",
    "import poses.colmap_read_model as read_model\n",
    "from poses.pose_utils import load_colmap_pose"
   ]
  },
  {
   "cell_type": "code",
   "execution_count": 7,
   "metadata": {},
   "outputs": [],
   "source": [
    "realdir = Path('/mnt/lustre/yslan/Dataset/OPen4D/JUMPING-MINH/stereo/0')\n",
    "imagesfile = os.path.join(realdir, \"sparse/0/images.bin\")\n",
    "imdata = read_model.read_images_binary(imagesfile)\n",
    "\n",
    "# poses, perm = load_colmap_pose(realdir)"
   ]
  },
  {
   "cell_type": "code",
   "execution_count": 21,
   "metadata": {},
   "outputs": [],
   "source": [
    "# poses.reshape(poses.shape[0], -1).shape\n",
    "names = [imdata[k].name  for k in imdata]"
   ]
  },
  {
   "cell_type": "code",
   "execution_count": 25,
   "metadata": {},
   "outputs": [
    {
     "output_type": "execute_result",
     "data": {
      "text/plain": [
       "{'0001.png': array([ 0.99923371,  0.02801707,  0.02733189,  3.84387654, -0.0275401 ,\n",
       "         0.99946444, -0.01767398,  0.2952746 , -0.02781243,  0.01690772,\n",
       "         0.99947016, -0.46321651]),\n",
       " '0011.png': array([ 9.96640580e-01,  2.84268535e-02, -7.68079984e-02,  7.45740927e+00,\n",
       "        -2.80514324e-02,  9.99588698e-01,  5.96247382e-03, -1.37385970e+00,\n",
       "         7.69459015e-02, -3.78786899e-03,  9.97028074e-01, -2.57835508e+00]),\n",
       " '0018.png': array([ 0.96835713,  0.20111752, -0.14777079,  4.21324913, -0.21691361,\n",
       "         0.97107436, -0.09981521, -0.47582696,  0.12342184,  0.12871027,\n",
       "         0.98397191,  0.17115378]),\n",
       " '0026.png': array([ 0.99693366, -0.01976735,  0.07571348, -2.39519626,  0.02299728,\n",
       "         0.99885171, -0.04202843,  0.78097721, -0.07479575,  0.04364076,\n",
       "         0.99624348,  1.7453989 ]),\n",
       " '0027.png': array([ 0.99750779, -0.00322149, -0.07048284,  0.38584052, -0.0031245 ,\n",
       "         0.99596026, -0.08974076, -0.0419723 ,  0.07048721,  0.08973733,\n",
       "         0.99346805, -0.25160759]),\n",
       " '0073.png': array([ 9.27516113e-01,  1.93321347e-01,  3.19907356e-01, -4.53387948e+00,\n",
       "        -1.84327350e-01,  9.81124073e-01, -5.84720517e-02,  1.27797445e+00,\n",
       "        -3.25172704e-01, -4.73390509e-03,  9.45642799e-01,  5.93376632e+00]),\n",
       " '0043.png': array([ 0.92492248,  0.06396756,  0.37473531, -1.51389038, -0.06628077,\n",
       "         0.99777834, -0.00672706,  0.8154071 , -0.37433309, -0.01861573,\n",
       "         0.92710743,  1.37662641])}"
      ]
     },
     "metadata": {},
     "execution_count": 25
    }
   ],
   "source": [
    "\n",
    "list(zip(names, poses))"
   ]
  },
  {
   "cell_type": "code",
   "execution_count": 9,
   "metadata": {},
   "outputs": [
    {
     "output_type": "execute_result",
     "data": {
      "text/plain": [
       "[range(0, 10)]"
      ]
     },
     "metadata": {},
     "execution_count": 9
    }
   ],
   "source": [
    "\n",
    "[range(10)]"
   ]
  },
  {
   "cell_type": "code",
   "execution_count": null,
   "metadata": {},
   "outputs": [],
   "source": []
  }
 ]
}